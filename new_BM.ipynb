{
 "cells": [
  {
   "cell_type": "markdown",
   "metadata": {},
   "source": [
    "Importing the Libraries"
   ]
  },
  {
   "cell_type": "code",
   "execution_count": 2,
   "metadata": {},
   "outputs": [],
   "source": [
    "import numpy as np\n",
    "import pandas as pd\n",
    "import torch\n",
    "import torch.nn as nn\n",
    "import torch.nn.parallel\n",
    "import torch.optim as optim\n",
    "import torch.utils.data\n",
    "from torch.autograd import Variable\n",
    "\n"
   ]
  },
  {
   "cell_type": "markdown",
   "metadata": {},
   "source": [
    "Importing the datasets"
   ]
  },
  {
   "cell_type": "code",
   "execution_count": 3,
   "metadata": {},
   "outputs": [],
   "source": [
    "movies=pd.read_csv('ml-1m/movies.dat',sep='::',header=None, engine='python', encoding='latin-1' ) #Movie_ID is noted\n",
    "users=pd.read_csv('ml-1m/users.dat',sep='::',header=None, engine='python', encoding='latin-1' )#User_ID is noted so that we know what user is using this\n",
    "ratings=pd.read_csv('ml-1m/ratings.dat',sep='::',header=None, engine='python', encoding='latin-1' )#Rating for the movie against the user is noted"
   ]
  },
  {
   "cell_type": "markdown",
   "metadata": {},
   "source": [
    "Creating Training and Testing Test"
   ]
  },
  {
   "cell_type": "markdown",
   "metadata": {},
   "source": [
    "We can see that in many training and testing sets are present/ This is done to perform K-Fold Cross Validation"
   ]
  },
  {
   "cell_type": "code",
   "execution_count": 4,
   "metadata": {},
   "outputs": [],
   "source": [
    "training_set= pd.read_csv('ml-100k/u1.base', delimiter='\\t')\n",
    "#This should be converted into an array\n",
    "training_set=np.array(training_set, dtype= 'int')\n",
    "#The dataset is now an array with training set"
   ]
  },
  {
   "cell_type": "code",
   "execution_count": 5,
   "metadata": {},
   "outputs": [],
   "source": [
    "test_set= pd.read_csv('ml-100k/u1.test', delimiter='\\t')\n",
    "#This should be converted into an array\n",
    "test_set=np.array(test_set, dtype= 'int')"
   ]
  },
  {
   "cell_type": "markdown",
   "metadata": {},
   "source": [
    "We will be separating the two variables - The users and Rating to convert into the matrix. This will create a cell with (U,I) where U is user and I is Movie ID, and the value is the rating of the user for the particular movie.  "
   ]
  },
  {
   "cell_type": "markdown",
   "metadata": {},
   "source": [
    "Getting thenumber of users and the movies"
   ]
  },
  {
   "cell_type": "code",
   "execution_count": 6,
   "metadata": {},
   "outputs": [],
   "source": [
    "nb_users = int(max(max(training_set[:, 0], ), max(test_set[:, 0]))) #total number of users and it is represented as the first coloumn. Maximum no of users is considered/\n",
    "nb_movies = int(max(max(training_set[:, 1], ), max(test_set[:, 1]))) #movie is in the second coloumn and we take that"
   ]
  },
  {
   "cell_type": "markdown",
   "metadata": {},
   "source": [
    "Next we convert it into the matrix and these coloumns are transferred into the coloumns of the matrix. We need to make a specific data structure, for the restricted boltzmann machine. "
   ]
  },
  {
   "cell_type": "markdown",
   "metadata": {},
   "source": [
    "Converting the data into the array with the users in the lines and movies in the coloumns"
   ]
  },
  {
   "cell_type": "code",
   "execution_count": 7,
   "metadata": {},
   "outputs": [],
   "source": [
    "def convert(data):\n",
    "  new_data = [] #Final list \n",
    "  for id_users in range(1, nb_users + 1):\n",
    "    id_movies = data[:, 1] [data[:, 0] == id_users] #We take all the movie IDs as the id_users that is in the for loop\n",
    "    id_ratings = data[:, 2] [data[:, 0] == id_users] #RATINGS of the movie by the user from the second coloumn\n",
    "    ratings = np.zeros(nb_movies) #We are considering the ratings that have been rated zero. We use numpy function for this\n",
    "    ratings[id_movies - 1] = id_ratings #We try to access the index of the rating.\n",
    "    new_data.append(list(ratings)) #we are appending the ratings to the new list\n",
    "  return new_data \n",
    "  #We now apply it to the training and the testing set\n",
    "training_set = convert(training_set)\n",
    "test_set = convert(test_set)"
   ]
  },
  {
   "cell_type": "markdown",
   "metadata": {},
   "source": [
    "Converting the list into the torch tensors "
   ]
  },
  {
   "cell_type": "code",
   "execution_count": 8,
   "metadata": {},
   "outputs": [],
   "source": [
    "#Tensors are the multi-dimensional arrays (PyTorch Array)\n",
    "training_set = torch.FloatTensor(training_set)\n",
    "test_set = torch.FloatTensor(test_set)"
   ]
  },
  {
   "cell_type": "markdown",
   "metadata": {},
   "source": [
    "Converting the rating into binary format (1 for Liked and 0 for Not Liked)"
   ]
  },
  {
   "cell_type": "code",
   "execution_count": 9,
   "metadata": {},
   "outputs": [],
   "source": [
    "training_set[training_set == 0] = -1 #All the zero ratings are converted to -1\n",
    "training_set[training_set == 1] = 0 #Movies given 1 or 2 starts are converted to 0 (NOT LIKED)\n",
    "training_set[training_set == 2] = 0 #Movies given 1 or 2 starts are converted to 0 (NOT LIKED)\n",
    "training_set[training_set >= 3] = 1 # Movies that user has given 3+ are converted to 1 (LIKED )\n",
    "# Same goes for the test set\n",
    "test_set[test_set == 0] = -1\n",
    "test_set[test_set == 1] = 0\n",
    "test_set[test_set == 2] = 0\n",
    "test_set[test_set >= 3] = 1"
   ]
  },
  {
   "cell_type": "markdown",
   "metadata": {},
   "source": [
    "Building the Architecture of the Neural Networks"
   ]
  },
  {
   "cell_type": "code",
   "execution_count": 10,
   "metadata": {},
   "outputs": [],
   "source": [
    "class RBM(): #Creating the RBM Model\n",
    "  def __init__(self, nv, nh): #Defining  the parameters of the class\n",
    "    self.W = torch.randn(nh, nv) #NV- Visible Nodes and NH - Hidden Nodes (MATRIX OF TORCH TENSOR, according to normal distribution)\n",
    "    self.a = torch.randn(1, nh) #Initialising the visible nodes (MATRIX OF TORCH TENSOR)\n",
    "    self.b = torch.randn(1, nv) #Initialising the hidden nodes \n",
    "  def sample_h(self, x): # To return some samples of the hidden nodes (Using the nodes in self, and x for the visible neurons)\n",
    "    wx = torch.mm(x, self.W.t()) #mm is used to take product of the 2 tensors \n",
    "    activation = wx + self.a.expand_as(wx) #The linear function of the neurons||expand_as is used to add new dimension\n",
    "    p_h_given_v = torch.sigmoid(activation) #Using the activation function\n",
    "    return p_h_given_v, torch.bernoulli(p_h_given_v) #Using the bernoulli function || returns the bernoulli sampling\n",
    "    #Bernoulli neurons work when the probaility falls below the defined value. \n",
    "  def sample_v(self, y): # To return some samples of the hidden nodes (Using the nodes in self, and y for the hidden neurons)\n",
    "    wy = torch.mm(y, self.W)\n",
    "    activation = wy + self.b.expand_as(wy)\n",
    "    p_v_given_h = torch.sigmoid(activation)\n",
    "    return p_v_given_h, torch.bernoulli(p_v_given_h)\n",
    "  def train(self, v0, vk, ph0, phk): #ph0 is the probability of the prediction of hidden nodes and phk is after K sampling\n",
    "    self.W += (torch.mm(v0.t(), ph0) - torch.mm(vk.t(), phk)).t()\n",
    "    self.b += torch.sum((v0 - vk), 0)\n",
    "    self.a += torch.sum((ph0 - phk), 0)\n",
    "nv = len(training_set[0])\n",
    "nh = 100\n",
    "batch_size = 100\n",
    "rbm = RBM(nv, nh)"
   ]
  },
  {
   "attachments": {},
   "cell_type": "markdown",
   "metadata": {},
   "source": [
    "TRAINING THE RBM MODEL"
   ]
  },
  {
   "cell_type": "code",
   "execution_count": 11,
   "metadata": {},
   "outputs": [
    {
     "name": "stdout",
     "output_type": "stream",
     "text": [
      "epoch: 1 loss: tensor(0.3438)\n",
      "epoch: 2 loss: tensor(0.2374)\n",
      "epoch: 3 loss: tensor(0.2516)\n",
      "epoch: 4 loss: tensor(0.2482)\n",
      "epoch: 5 loss: tensor(0.2479)\n",
      "epoch: 6 loss: tensor(0.2523)\n",
      "epoch: 7 loss: tensor(0.2473)\n",
      "epoch: 8 loss: tensor(0.2483)\n",
      "epoch: 9 loss: tensor(0.2497)\n",
      "epoch: 10 loss: tensor(0.2474)\n"
     ]
    }
   ],
   "source": [
    "nb_epoch = 10\n",
    "for epoch in range(1, nb_epoch + 1):\n",
    "  train_loss = 0\n",
    "  s = 0.\n",
    "  for id_user in range(0, nb_users - batch_size, batch_size):\n",
    "    vk = training_set[id_user : id_user + batch_size]\n",
    "    v0 = training_set[id_user : id_user + batch_size]\n",
    "    ph0,_ = rbm.sample_h(v0)\n",
    "    for k in range(10):\n",
    "      _,hk = rbm.sample_h(vk)\n",
    "      _,vk = rbm.sample_v(hk)\n",
    "      vk[v0<0] = v0[v0<0]\n",
    "    phk,_ = rbm.sample_h(vk)\n",
    "    rbm.train(v0, vk, ph0, phk)\n",
    "    train_loss += torch.mean(torch.abs(v0[v0 >= 0] - vk[v0 >= 0]))\n",
    "    s += 1.\n",
    "  print('epoch: '+str(epoch)+' loss: '+str(train_loss/s))\n"
   ]
  },
  {
   "attachments": {},
   "cell_type": "markdown",
   "metadata": {},
   "source": [
    "Testing the RBM Model"
   ]
  },
  {
   "cell_type": "code",
   "execution_count": 12,
   "metadata": {},
   "outputs": [
    {
     "name": "stdout",
     "output_type": "stream",
     "text": [
      "test loss: tensor(0.2388)\n"
     ]
    }
   ],
   "source": [
    "test_loss = 0\n",
    "s = 0.\n",
    "for id_user in range(nb_users):\n",
    "    v = training_set[id_user:id_user+1]\n",
    "    vt = test_set[id_user:id_user+1]\n",
    "    if len(vt[vt>=0]) > 0:\n",
    "        _,h = rbm.sample_h(v)\n",
    "        _,v = rbm.sample_v(h)\n",
    "        test_loss += torch.mean(torch.abs(vt[vt>=0] - v[vt>=0]))\n",
    "        s += 1.\n",
    "print('test loss: '+str(test_loss/s))"
   ]
  }
 ],
 "metadata": {
  "kernelspec": {
   "display_name": "Python 3.9.11 64-bit",
   "language": "python",
   "name": "python3"
  },
  "language_info": {
   "codemirror_mode": {
    "name": "ipython",
    "version": 3
   },
   "file_extension": ".py",
   "mimetype": "text/x-python",
   "name": "python",
   "nbconvert_exporter": "python",
   "pygments_lexer": "ipython3",
   "version": "3.9.11"
  },
  "orig_nbformat": 4,
  "vscode": {
   "interpreter": {
    "hash": "4ec41162722ab6218dcb511774264369501b5952b867717e39f000dae1029759"
   }
  }
 },
 "nbformat": 4,
 "nbformat_minor": 2
}
